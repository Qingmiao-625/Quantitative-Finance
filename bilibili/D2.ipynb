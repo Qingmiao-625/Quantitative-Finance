{
 "cells": [
  {
   "cell_type": "code",
   "execution_count": 37,
   "metadata": {},
   "outputs": [],
   "source": [
    "import numpy as np\n",
    "import matplotlib.pyplot as plt"
   ]
  },
  {
   "cell_type": "code",
   "execution_count": 38,
   "metadata": {},
   "outputs": [
    {
     "data": {
      "text/plain": [
       "array([ 0.16075034, -0.43373882, -0.66359637, -0.17391065,  1.13600631,\n",
       "        2.20253295,  0.27521777, -1.07224763, -0.3982236 ,  0.03273627])"
      ]
     },
     "execution_count": 38,
     "metadata": {},
     "output_type": "execute_result"
    }
   ],
   "source": [
    "np.random.standard_normal(10)"
   ]
  },
  {
   "cell_type": "code",
   "execution_count": 39,
   "metadata": {},
   "outputs": [
    {
     "name": "stdout",
     "output_type": "stream",
     "text": [
      "[[0.   0.5  0.25 0.25]\n",
      " [1.   0.   0.   0.  ]\n",
      " [0.   1.   0.   0.  ]\n",
      " [0.   0.   1.   0.  ]]\n",
      "[2.75 1.   2.   3.  ]\n",
      "[1.75 2.75 1.   2.  ]\n",
      "[2.125 1.75  2.75  1.   ]\n",
      "[1.8125 2.125  1.75   2.75  ]\n",
      "[2.1875 1.8125 2.125  1.75  ]\n",
      "[1.875  2.1875 1.8125 2.125 ]\n",
      "[2.078125 1.875    2.1875   1.8125  ]\n",
      "[1.9375   2.078125 1.875    2.1875  ]\n",
      "[2.0546875 1.9375    2.078125  1.875    ]\n",
      "[1.95703125 2.0546875  1.9375     2.078125  ]\n"
     ]
    }
   ],
   "source": [
    "#一个4*4递推矩阵\n",
    "recurrence_matrix = np.array([[0, 0.5, 0.25, 0.25], [1, 0, 0, 0], [0, 1, 0, 0], [0, 0, 1, 0]])\n",
    "print(recurrence_matrix)\n",
    "# 初始向量\n",
    "initial_vector = np.array([1, 2, 3, 4])\n",
    "# 计算前10个元素\n",
    "for i in range(10):\n",
    "    print(np.dot(recurrence_matrix, initial_vector))\n",
    "    initial_vector = np.dot(recurrence_matrix, initial_vector)\n",
    "# 计算最终稳定数字\n",
    "final_vector = np.dot(recurrence_matrix, initial_vector)"
   ]
  },
  {
   "cell_type": "code",
   "execution_count": 40,
   "metadata": {},
   "outputs": [],
   "source": [
    "# 计算稳定状态\n",
    "def calculate_stable_state(transition_matrix,initial_state,tolerance=1e-6,max_iterations=1000):\n",
    "    stable_state = initial_state   \n",
    "    for _ in range(max_iterations):\n",
    "        new_state = np.dot(transition_matrix, stable_state)\n",
    "        # 检查收敛条件\n",
    "        if np.linalg.norm(new_state - stable_state) < tolerance:\n",
    "            break\n",
    "        stable_state = new_state\n",
    "        if _ == max_iterations - 1:\n",
    "           print(\"未满足收敛条件，已达到迭代数量上限\")\n",
    "    return stable_state"
   ]
  },
  {
   "cell_type": "code",
   "execution_count": 41,
   "metadata": {},
   "outputs": [
    {
     "data": {
      "text/plain": [
       "array([2., 2., 2., 2.])"
      ]
     },
     "execution_count": 41,
     "metadata": {},
     "output_type": "execute_result"
    }
   ],
   "source": [
    "calculate_stable_state(recurrence_matrix,initial_vector,tolerance=1e-15)"
   ]
  }
 ],
 "metadata": {
  "kernelspec": {
   "display_name": "Python 3",
   "language": "python",
   "name": "python3"
  },
  "language_info": {
   "codemirror_mode": {
    "name": "ipython",
    "version": 3
   },
   "file_extension": ".py",
   "mimetype": "text/x-python",
   "name": "python",
   "nbconvert_exporter": "python",
   "pygments_lexer": "ipython3",
   "version": "3.12.1"
  }
 },
 "nbformat": 4,
 "nbformat_minor": 2
}
